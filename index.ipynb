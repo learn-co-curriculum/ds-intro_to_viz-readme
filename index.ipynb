{
 "cells": [
  {
   "cell_type": "markdown",
   "metadata": {},
   "source": [
    "# Data Visualization in Python\n",
    "\n",
    "## Objectives \n",
    "\n",
    "* Identify data visualization as a necessary tool for data scientists\n",
    "* Select suitable visual cues for given context\n",
    "* Rank different cues based on their effectiveness."
   ]
  },
  {
   "cell_type": "markdown",
   "metadata": {},
   "source": [
    "## Background\n",
    "\n",
    "Data Visualization involves technology and skills by which humans communicate and understand complex analytics by  recognizing visual cues and patterns. As data complexity increases, the complexity of analytical process around it also increases,  making it very challenging to effectively communicate the findings. This makes visualization of data even more critical in real world contexts. Data visualization is thus considered to be a skill of very high importance for a data scientist's career. Upcoming set of lessons and labs will help you understand basic data visualization principles and explain some terminology related to data visualization. We shall mainly use python's `matplotlib` and `seaborn` libraries to visualize different datasets in a multitude of contexts.   \n",
    "\n",
    "![](https://3c1703fe8d.site.internapcdn.net/newman/gfx/news/hires/2013/whatmakesada.png)"
   ]
  },
  {
   "cell_type": "markdown",
   "metadata": {},
   "source": [
    "## Why Visualize?\n",
    "\n",
    "\n",
    "Let’s say we want to analyze the click stream data from our on-line customers' visits to our company's website. We have data about how many times they have logged in, how many pages and links and they visited and how much revenue we have earned from them etc. We can immediately calculate several compelling summary statistic as: \n",
    "\n",
    "* What is the average number of visits per visitor? \n",
    "* What is the average revenue per visitor?\n",
    "* What are top ten popular products based on total number of purchase clicks by visitors. \n",
    "* What is the correlation between total number of visits and revenue earned?\n",
    "\n",
    "This sounds pretty reasonable. Summary statistics allow us to describe a complex dataset using just a few key measures, providing an easy way to develop and optimize  your business strategy by using statistical measures a key performance indicators. But there is a danger in relying only on summary statistics and ignoring the **overall distribution**. \n",
    "\n",
    "Let's take a look at how summary statistics can be misleading in absence of suitable visualizations by using the famous Anscombe's Quartet as an example. \n",
    "\n",
    "### Anscombe's Quartet\n",
    "\n",
    "Perhaps the most elegant demonstration of the dangers of using summary statistics in absence of suitable visualizations is **Anscombe’s Quartet**. In a 1973 paper, **Graphs in Statistical Analysis**, published in The American Statisticians, Francis Anscombe provided this example with the briefest of abstracts: *\"Graphs are essential to good statistical analysis\".* \n",
    "\n",
    ">**Anscombe's Quartet a group of four datasets (sets I, II, II, IV with an x and y value each) that appear to be similar when using typical summary statistics, yet tell four different stories when visualized.**\n",
    "\n",
    "Let's import `matplotlib` (a plotting library in python) and look at these datasets as shown below:"
   ]
  },
  {
   "cell_type": "code",
   "execution_count": 1,
   "metadata": {},
   "outputs": [],
   "source": [
    "import matplotlib.pyplot as plt\n",
    "from matplotlib.pyplot import subplot, scatter, plot, axis\n",
    "plt.style.use('ggplot')\n",
    "from scipy.stats import linregress\n",
    "import numpy as np\n",
    "\n",
    "x1 = [10.0, 8.0,  13.0,  9.0,  11.0, 14.0, 6.0,  4.0,  12.0,  7.0,  5.0]\n",
    "y1 = [8.04, 6.95, 7.58,  8.81, 8.33, 9.96, 7.24, 4.26, 10.84, 4.82, 5.68]\n",
    "\n",
    "x2 = [10.0, 8.0,  13.0,  9.0,  11.0, 14.0, 6.0,  4.0,  12.0,  7.0,  5.0]\n",
    "y2 = [9.14, 8.14, 8.74,  8.77, 9.26, 8.10, 6.13, 3.10, 9.13,  7.26, 4.74]\n",
    "\n",
    "x3 = [10.0, 8.0,  13.0,  9.0,  11.0, 14.0, 6.0,  4.0,  12.0,  7.0,  5.0]\n",
    "y3 = [7.46, 6.77, 12.74, 7.11, 7.81, 8.84, 6.08, 5.39, 8.15,  6.42, 5.73]\n",
    "\n",
    "x4 = [8.0,  8.0,  8.0,   8.0,  8.0,  8.0,  8.0,  19.0,  8.0,  8.0,  8.0]\n",
    "y4 = [6.58, 5.76, 7.71,  8.84, 8.47, 7.04, 5.25, 12.50, 5.56, 7.91, 6.89]"
   ]
  },
  {
   "cell_type": "markdown",
   "metadata": {},
   "source": [
    "We shall first calculate basic summary statistics from above data. "
   ]
  },
  {
   "cell_type": "code",
   "execution_count": 2,
   "metadata": {},
   "outputs": [
    {
     "name": "stdout",
     "output_type": "stream",
     "text": [
      "Mean of values in x1 : 9.0\n",
      "Mean of values in x2 : 9.0\n",
      "Mean of values in x3 : 9.0\n",
      "Mean of values in x4 : 9.0\n",
      "\n",
      "\n",
      "Mean of values in y4 : 7.5\n",
      "Mean of values in y4 : 7.5\n",
      "Mean of values in y4 : 7.5\n",
      "Mean of values in y4 : 7.5\n"
     ]
    }
   ],
   "source": [
    "# Get the mean for all xs\n",
    "for i, x in enumerate([x1,x2,x3,x4]):\n",
    "    print ('Mean of values in', 'x'+(str(i+1)), ':', round(np.mean(x)))\n",
    "print('\\n')\n",
    "\n",
    "# Get the mean for all ys    \n",
    "for y in [y1,y2,y3,y4]:\n",
    "    print ('Mean of values in', 'y'+(str(i+1)), ':', round(np.mean(y),2))"
   ]
  },
  {
   "cell_type": "markdown",
   "metadata": {},
   "source": [
    "The average x value is 9 for each dataset.\n",
    "\n",
    "The average y value is 7.50 for each dataset.\n",
    "\n",
    "This means statistically speaking, the center of all x and y variables in four datasets have same value. So one would would conclude they are pretty similar . But are they ?\n",
    "\n",
    "Let's calculate standard deviation as a measure of spread of data for our xs and ys."
   ]
  },
  {
   "cell_type": "code",
   "execution_count": 3,
   "metadata": {},
   "outputs": [
    {
     "name": "stdout",
     "output_type": "stream",
     "text": [
      "Standard Deviation of values in x1 : 3.16\n",
      "Standard Deviation of values in x2 : 3.16\n",
      "Standard Deviation of values in x3 : 3.16\n",
      "Standard Deviation of values in x4 : 3.16\n",
      "\n",
      "\n",
      "Standard Deviation of values in y4 : 1.94\n",
      "Standard Deviation of values in y4 : 1.94\n",
      "Standard Deviation of values in y4 : 1.94\n",
      "Standard Deviation of values in y4 : 1.94\n"
     ]
    }
   ],
   "source": [
    "# Get the standard deviation for all xs\n",
    "for i, x in enumerate([x1,x2,x3,x4]):\n",
    "    print ('Standard Deviation of values in', 'x'+(str(i+1)), ':', round(np.std(x),2))\n",
    "print('\\n')\n",
    "\n",
    "# Get the standard deviation for all ys\n",
    "for y in [y1,y2,y3,y4]:\n",
    "    print ('Standard Deviation of values in', 'y'+(str(i+1)), ':', round(np.std(y),2))"
   ]
  },
  {
   "cell_type": "markdown",
   "metadata": {},
   "source": [
    "The variance for xs is 3.16 and the variance for ys is 1.92.\n",
    "\n",
    "Again, our summary statistics tell us that given all xs and ys have similar measures of center and spread, the datasets must be highly similar, if not totally similar.\n",
    "\n",
    "As another statistical measure, we can consider identifying the measure of similarity between xs and ys for each dataset. "
   ]
  },
  {
   "cell_type": "code",
   "execution_count": 106,
   "metadata": {},
   "outputs": [
    {
     "name": "stdout",
     "output_type": "stream",
     "text": [
      "Correlation between x and y for dataset 1 = 0.82\n",
      "Correlation between x and y for dataset 2 = 0.82\n",
      "Correlation between x and y for dataset 3 = 0.82\n",
      "Correlation between x and y for dataset 4 = 0.82\n"
     ]
    }
   ],
   "source": [
    "for i,xy in enumerate([(x1,y1),(x2,y2),(x3,y3),(x4,y4)]):\n",
    "    print('Correlation between x and y for dataset',i+1, '=',round((np.corrcoef(xy)[0][1]),2))"
   ]
  },
  {
   "cell_type": "markdown",
   "metadata": {},
   "source": [
    "Our observations continue to support the fact that these datasets are  similar as we now have measures of center, spread and similarity between variables - all pointing out towards a high level of similarity. \n",
    "\n",
    "As our xs and ys in each dataset are vectors, we can measure the slop and intercept for drawing a line of best fit on the graph for these variables."
   ]
  },
  {
   "cell_type": "code",
   "execution_count": 107,
   "metadata": {},
   "outputs": [
    {
     "name": "stdout",
     "output_type": "stream",
     "text": [
      "For dataset 1 : Slope = 0.5 , Intercept 3.0\n",
      "For dataset 2 : Slope = 0.5 , Intercept 3.0\n",
      "For dataset 3 : Slope = 0.5 , Intercept 3.0\n",
      "For dataset 4 : Slope = 0.5 , Intercept 3.0\n"
     ]
    }
   ],
   "source": [
    "for i,xy in enumerate([(x1,y1),(x2,y2),(x3,y3),(x4,y4)]):\n",
    "    slope, intercept, r_value, p_value, std_err = linregress(xy)\n",
    "    print ('For dataset', i+1 , ': Slope =', round(slope,2),', Intercept',round(intercept,2))"
   ]
  },
  {
   "cell_type": "markdown",
   "metadata": {},
   "source": [
    "Similar values of slope and intercept tell us that there is a single best line in case of all these variables. So quite a bit of similarity there. \n",
    "\n",
    "Now let's try to visualize these datasets as scatter plots between xs and ys ,and see if the visualization would confirm our initial observations. We shall also use the slope and intercept values to calculate a regression line (y = mx + c)."
   ]
  },
  {
   "cell_type": "code",
   "execution_count": 13,
   "metadata": {},
   "outputs": [
    {
     "name": "stdout",
     "output_type": "stream",
     "text": [
      "0.500 3.00 0.816 0.002 0.118\n",
      "0.500 3.00 0.816 0.002 0.118\n",
      "0.500 3.00 0.816 0.002 0.118\n",
      "0.500 3.00 0.817 0.002 0.118\n"
     ]
    },
    {
     "data": {
      "text/plain": [
       "[0, 20, 0, 14]"
      ]
     },
     "execution_count": 13,
     "metadata": {},
     "output_type": "execute_result"
    },
    {
     "data": {
      "image/png": "[encoded data removed]",
      "text/plain": [
       "<matplotlib.figure.Figure at 0x1a14513a20>"
      ]
     },
     "metadata": {},
     "output_type": "display_data"
    }
   ],
   "source": [
    "#### xmax = 20\n",
    "ymax = 14\n",
    "plt.figure(figsize=(15,10))\n",
    "\n",
    "ax1 = subplot(2, 2, 1)\n",
    "scatter(x1, y1,  color='b')\n",
    "slope, intercept, r_value, p_value, std_err = linregress(x1, y1)\n",
    "plot([0, xmax], [intercept, slope * xmax + intercept])\n",
    "print(\"{0:.3f} {1:.2f} {2:.3f} {3:.3f} {4:.3f}\".format(slope, intercept, r_value, p_value, std_err))\n",
    "\n",
    "\n",
    "subplot(2, 2, 2, sharex=ax1, sharey=ax1)\n",
    "scatter(x2, y2,  color='b')\n",
    "slope, intercept, r_value, p_value, std_err = linregress(x2, y2)\n",
    "plot([0, xmax], [intercept, slope * xmax + intercept])\n",
    "print(\"{0:.3f} {1:.2f} {2:.3f} {3:.3f} {4:.3f}\".format(slope, intercept, r_value, p_value, std_err))\n",
    "\n",
    "\n",
    "subplot(2, 2, 3, sharex=ax1, sharey=ax1)\n",
    "scatter(x3, y3,  color='b')\n",
    "slope, intercept, r_value, p_value, std_err = linregress(x3, y3)\n",
    "plot([0, xmax], [intercept, slope * xmax + intercept])\n",
    "print(\"{0:.3f} {1:.2f} {2:.3f} {3:.3f} {4:.3f}\".format(slope, intercept, r_value, p_value, std_err))\n",
    "\n",
    "\n",
    "subplot(2, 2, 4, sharex=ax1, sharey=ax1)\n",
    "scatter(x4, y4, color='b')\n",
    "slope, intercept, r_value, p_value, std_err = linregress(x4, y4)\n",
    "plot([0, xmax], [intercept, slope * xmax + intercept])\n",
    "print(\"{0:.3f} {1:.2f} {2:.3f} {3:.3f} {4:.3f}\".format(slope, intercept, r_value, p_value, std_err))\n",
    "\n",
    "\n",
    "axis([0, xmax, 0, ymax])"
   ]
  },
  {
   "cell_type": "markdown",
   "metadata": {},
   "source": [
    "Right, so now our visualizations tell us a different story - that these datasets now appear to be quite different from each other. They are all explained through same values for mean, standard deviation and regression line, but in reality, the overall distributions are quite different from each other. \n",
    "\n",
    "The reasons for similarity we found can be summarized as below:\n",
    "\n",
    "* The first scatter plot (top left) appears to be a simple linear relationship, corresponding to two variables correlated and following the assumption of normality.\n",
    "\n",
    "* The second graph (top right) is not distributed normally; while a relationship between the two variables is obvious, it is not linear, and the correlation coefficient is not relevant.\n",
    "\n",
    "* In the third graph (bottom left), the distribution is linear, but should have a different regression line (different slope, intercept). The calculated slope and intercept are offset by the one outlier which exerts enough influence to lower the correlation coefficient from 1 to 0.816.\n",
    "\n",
    "* The fourth graph (bottom right) shows an example when one extreme outlier is enough to produce a high correlation coefficient, even though the other data points do not indicate any relationship between the variables.\n",
    "\n",
    "\n",
    "This classic example really illustrates the importance of looking at your data, not just the summary statistics and model parameters you compute from it.Calculating summary statistics, while useful, should only be one piece of your data analysis pipeline.\n"
   ]
  },
  {
   "cell_type": "markdown",
   "metadata": {},
   "source": [
    "\n",
    ">Data visualization is a quick, easy way to convey concepts in a universal manner.\n",
    "\n",
    "\n",
    "Data scientists use visualization technqiues in order to:\n",
    "\n",
    "* Visually identify areas that need attention or improvement.\n",
    "* Clarify which factors influence the desired outcome and how much.\n",
    "* Help understand and communicate ordering of data entities.\n",
    "* Show predictions or other outcomes of an analysis. \n",
    "\n",
    "Let's see how this phenomenon may manifest itself in real world scenarios."
   ]
  },
  {
   "cell_type": "markdown",
   "metadata": {},
   "source": [
    "Let’s look at a real dataset that shows exactly how summary statistics can be dangerous.\n",
    "\n",
    "A great example is the distribution of starting salaries for new law graduates. The National Association of Law Placement (NALP) reports that in 2012, lawyers made $80,798 on average in starting salary. However a look at the salary distribution shows what law salaries really look like:\n",
    "\n",
    "\n",
    "![](lawyers.gif)"
   ]
  },
  {
   "cell_type": "markdown",
   "metadata": {},
   "source": [
    "The visualization above shows that  law graduates usually fall into one of two groups. The majority of new lawyers make somewhere between 35,000 and 75,000 USD per year, and a sizable minority earns 160,000 USD per year. \n",
    "\n",
    "What we have here is a \"bimodal distribution\" i.e. two peaks that arise from two distinct distributions happening within the same dataset. The 80,798 figure reported as the average falls into the trough between the two peaks, and few lawyers have salaries near that number. A much more accurate statement would be: \n",
    ">Most law graduates make around 50,000 on average, and those who go to one of the top law schools make $160,000 on average.\n",
    "\n",
    "There’s also something else happening here that we wouldn’t have observed if we hadn’t plotted the data. There’s a giant spike at exactly 160,000 in starting salary. So, why is 160,000 such a popular number for law salaries? It turns out that this data isn’t based on actual legal salaries, but based on what law schools report to the NALP as their students’ median starting salaries. \n",
    "\n",
    "Visualizing the data helped in two ways. It gave us a better picture of what realistic starting law salaries look like, and also allowed us to ask a follow-up question that exposed a potential flaw in our data."
   ]
  },
  {
   "cell_type": "markdown",
   "metadata": {},
   "source": [
    "## Which visualization technique to choose ?\n",
    "\n",
    "Visualizations are based on visual cues like change in color, size, length, volume of graphical objects. The interpretation of these cues maybe considered subjective and all cues are not considered equally revealing. In the paper titled **Graphical Perception and Methods for Analyzing Scientific Data**, researchers Cleveland and McGill came up with some ideas on how human beings precieve different visual cues with varying level of impact. Their paper on the topic is available [HERE](http://courses.ischool.berkeley.edu/i247/f05/readings/Cleveland_GraphicalPerception_Science85.pdf). In summary, a peerceptual heirarchy of visual cues based on this work can be shown as below:\n",
    "\n",
    "\n",
    "<img src=\"cues_heirarchy.jpg\" alt=\"drawing\" width=\"300\"/>\n"
   ]
  },
  {
   "cell_type": "markdown",
   "metadata": {},
   "source": [
    "This hierarchy generally works quite well for continuous variable where a bar chart based on length of bars would always work better than colour intensity or hue in order to highlight the difference between different quantities. But this does not mean that one would ALWAYS use a bar chart. For categorical (nominal and ordinal) variables, difference in Hue and contrast may well prove to be more effective than length. With a focus on how human brains percieve colours, lengths, patterns and shapes, a data visualisation expert would choose different encoding mechanisms to suit the need of underlying data and audience of the visualisation. "
   ]
  },
  {
   "cell_type": "markdown",
   "metadata": {},
   "source": [
    "### Selecting Appropriate Visualisation"
   ]
  },
  {
   "cell_type": "markdown",
   "metadata": {},
   "source": [
    "Following diagram provides a good start for identifying a suitable visualisation type for the given problem. The visual cues shown above can be used for visualizing comparisons and compositions of data elements, in a static as well as a temporal context. It also gives some indication for techniques that might be useful towards showing distributions or random variables. \n",
    "\n",
    "![](chart-selector.png)\n",
    "\n",
    "Bases on this, we shall cover following visualization techniques in the upcoming series of lessons and labs:\n",
    "\n",
    "* #### Comparisons with Bar Charts\n",
    "* #### Temporal Comparisons with Line Plots and Area Charts\n",
    "* #### Compositions with Pie charts and Simple/Multi-level Donut Charts\n",
    "* #### Univariate statistical relations with box plots, histograms, violin plots etc.\n",
    "* #### multivariate statistical relationships with scatter plots, heat maps, parallel plots. \n"
   ]
  },
  {
   "cell_type": "markdown",
   "metadata": {},
   "source": [
    "## Summary\n",
    "\n",
    "This lesson provides a very brief introduction to data visualization. We looked into how different visual cues can be used for depicting data as a graphic. We also looked at how some of the cues might be more effective than others towards visual analysis of data. The chart given in this lesson will be used to cover some of the plotting techniques in Python, Numpy and Pandas in upcoming lessons and labs. "
   ]
  }
 ],
 "metadata": {
  "kernelspec": {
   "display_name": "Python 3",
   "language": "python",
   "name": "python3"
  },
  "language_info": {
   "codemirror_mode": {
    "name": "ipython",
    "version": 3
   },
   "file_extension": ".py",
   "mimetype": "text/x-python",
   "name": "python",
   "nbconvert_exporter": "python",
   "pygments_lexer": "ipython3",
   "version": "3.6.4"
  }
 },
 "nbformat": 4,
 "nbformat_minor": 2
}
